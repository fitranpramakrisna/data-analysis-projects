{
 "cells": [
  {
   "cell_type": "markdown",
   "id": "b9b16590",
   "metadata": {},
   "source": [
    "### Import Libraries"
   ]
  },
  {
   "cell_type": "code",
   "execution_count": 1,
   "id": "241b4122",
   "metadata": {},
   "outputs": [],
   "source": [
    "from bs4 import BeautifulSoup\n",
    "import requests\n",
    "import smtplib\n",
    "import time\n",
    "import datetime\n"
   ]
  },
  {
   "cell_type": "markdown",
   "id": "124ce1d8",
   "metadata": {},
   "source": [
    "### Connect to website and pull in the data"
   ]
  },
  {
   "cell_type": "code",
   "execution_count": 2,
   "id": "bd7f62f6",
   "metadata": {},
   "outputs": [],
   "source": [
    "url = 'https://www.amazon.com/Disney-Moving-Talking-Dinosaur-Phrases/dp/B0B9Q66L6X/ref=sr_1_7?content-id=amzn1.sym.27d5053d-a197-41e8-95cc-4cf7a5b1f2c1%3Aamzn1.sym.27d5053d-a197-41e8-95cc-4cf7a5b1f2c1&keywords=toy+story&pd_rd_r=4dc2548e-1e59-4d02-a8c0-68b1a5b2e24c&pd_rd_w=3FG2d&pd_rd_wg=hvqdu&pf_rd_p=27d5053d-a197-41e8-95cc-4cf7a5b1f2c1&pf_rd_r=V8SV7FN2JZN7V41B5EPT&qid=1696220028&rnid=2941120011&s=toys-and-games&sr=1-7&wi=l297esw1_0'\n",
    "headers = {\"User-Agent\": \"Mozilla/5.0 (Windows NT 10.0; Win64; x64) AppleWebKit/537.36 (KHTML, like Gecko) Chrome/117.0.0.0 Safari/537.36\"}\n",
    "page = requests.get(url, headers = headers)\n",
    "\n",
    "soup1 = BeautifulSoup(page.content, \"html.parser\")\n"
   ]
  },
  {
   "cell_type": "code",
   "execution_count": 3,
   "id": "76bdf711",
   "metadata": {},
   "outputs": [
    {
     "name": "stdout",
     "output_type": "stream",
     "text": [
      "\n",
      "             Mattel Disney Pixar Toy Story Toys, Moving & Talking Rex Dinosaur Figure, Roarin’ Laughs, 10.8 Inches Tall with 40 Phrases and Mouth & Arm Motion, Kids Gift\n",
      "            \n",
      "\n",
      "                          $32.99\n",
      "                         \n"
     ]
    }
   ],
   "source": [
    "soup2 = BeautifulSoup(soup1.prettify(), \"html.parser\")\n",
    "title = soup2.find(id='productTitle').get_text()\n",
    "\n",
    "price = soup2.find(class_='a-offscreen').get_text()\n",
    "\n",
    "\n",
    "print(title)\n",
    "print(price)"
   ]
  },
  {
   "cell_type": "markdown",
   "id": "de068a7d",
   "metadata": {},
   "source": [
    "### Clean the data"
   ]
  },
  {
   "cell_type": "code",
   "execution_count": 4,
   "id": "f2443779",
   "metadata": {},
   "outputs": [
    {
     "name": "stdout",
     "output_type": "stream",
     "text": [
      "Mattel Disney Pixar Toy Story Toys, Moving & Talking Rex Dinosaur Figure, Roarin’ Laughs, 10.8 Inches Tall with 40 Phrases and Mouth & Arm Motion, Kids Gift\n",
      "32.99\n"
     ]
    }
   ],
   "source": [
    "# Clean up the data a little bit\n",
    "\n",
    "price = price.strip()[1:]\n",
    "title = title.strip()\n",
    "\n",
    "print(title)\n",
    "print(price)"
   ]
  },
  {
   "cell_type": "markdown",
   "id": "d2b13588",
   "metadata": {},
   "source": [
    "### Create a Timestamp for your output to track when data was collected"
   ]
  },
  {
   "cell_type": "code",
   "execution_count": 5,
   "id": "38508807",
   "metadata": {},
   "outputs": [
    {
     "name": "stdout",
     "output_type": "stream",
     "text": [
      "2023-10-02\n"
     ]
    }
   ],
   "source": [
    "import datetime\n",
    "\n",
    "today = datetime.date.today()\n",
    "\n",
    "print(today)"
   ]
  },
  {
   "cell_type": "markdown",
   "id": "d1d6a8a4",
   "metadata": {},
   "source": [
    "### Create CSV and write headers and data into the file"
   ]
  },
  {
   "cell_type": "code",
   "execution_count": 6,
   "id": "4cd2e391",
   "metadata": {},
   "outputs": [],
   "source": [
    "import csv \n",
    "\n",
    "header = ['Title', 'Price', 'Date']\n",
    "data = [title, price, today]\n",
    "\n",
    "\n",
    "with open('AmazonWebScraperDataset.csv', 'w', newline='', encoding='UTF8') as f:\n",
    "    writer = csv.writer(f)\n",
    "    writer.writerow(header)\n",
    "    writer.writerow(data)\n",
    "    "
   ]
  },
  {
   "cell_type": "markdown",
   "id": "09028ad4",
   "metadata": {},
   "source": [
    "### Read the data"
   ]
  },
  {
   "cell_type": "code",
   "execution_count": 7,
   "id": "499f6de4",
   "metadata": {},
   "outputs": [
    {
     "data": {
      "text/html": [
       "<div>\n",
       "<style scoped>\n",
       "    .dataframe tbody tr th:only-of-type {\n",
       "        vertical-align: middle;\n",
       "    }\n",
       "\n",
       "    .dataframe tbody tr th {\n",
       "        vertical-align: top;\n",
       "    }\n",
       "\n",
       "    .dataframe thead th {\n",
       "        text-align: right;\n",
       "    }\n",
       "</style>\n",
       "<table border=\"1\" class=\"dataframe\">\n",
       "  <thead>\n",
       "    <tr style=\"text-align: right;\">\n",
       "      <th></th>\n",
       "      <th>Title</th>\n",
       "      <th>Price</th>\n",
       "      <th>Date</th>\n",
       "    </tr>\n",
       "  </thead>\n",
       "  <tbody>\n",
       "    <tr>\n",
       "      <th>0</th>\n",
       "      <td>Mattel Disney Pixar Toy Story Toys, Moving &amp; T...</td>\n",
       "      <td>32.99</td>\n",
       "      <td>2023-10-02</td>\n",
       "    </tr>\n",
       "  </tbody>\n",
       "</table>\n",
       "</div>"
      ],
      "text/plain": [
       "                                               Title  Price        Date\n",
       "0  Mattel Disney Pixar Toy Story Toys, Moving & T...  32.99  2023-10-02"
      ]
     },
     "execution_count": 7,
     "metadata": {},
     "output_type": "execute_result"
    }
   ],
   "source": [
    "import pandas as pd\n",
    "\n",
    "df = pd.read_csv(r'D:\\Python DA Youtube Bootcamp\\AmazonWebScraperDataset.csv')\n",
    "\n",
    "df"
   ]
  },
  {
   "cell_type": "code",
   "execution_count": null,
   "id": "c0deeca0",
   "metadata": {},
   "outputs": [],
   "source": []
  }
 ],
 "metadata": {
  "kernelspec": {
   "display_name": "Python 3",
   "language": "python",
   "name": "python3"
  },
  "language_info": {
   "codemirror_mode": {
    "name": "ipython",
    "version": 3
   },
   "file_extension": ".py",
   "mimetype": "text/x-python",
   "name": "python",
   "nbconvert_exporter": "python",
   "pygments_lexer": "ipython3",
   "version": "3.8.8"
  }
 },
 "nbformat": 4,
 "nbformat_minor": 5
}
